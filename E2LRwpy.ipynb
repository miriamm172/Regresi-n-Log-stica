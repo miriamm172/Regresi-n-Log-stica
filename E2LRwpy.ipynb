{
  "nbformat": 4,
  "nbformat_minor": 0,
  "metadata": {
    "colab": {
      "name": "LRwpy.ipynb",
      "provenance": []
    },
    "kernelspec": {
      "name": "python3",
      "display_name": "Python 3"
    }
  },
  "cells": [
    {
      "cell_type": "markdown",
      "metadata": {
        "id": "qg23JidkDsi6",
        "colab_type": "text"
      },
      "source": [
        "Este ejemplo trata sobre la clasificacion de clientes si compró o no en una tienda en linea, usando regresion logistica sobre un dataset  que contiene la informacion de los clientes como genero edad y salario"
      ]
    },
    {
      "cell_type": "markdown",
      "metadata": {
        "id": "H9qn-wJCEIsO",
        "colab_type": "text"
      },
      "source": [
        "Primero importamos las librerias"
      ]
    },
    {
      "cell_type": "code",
      "metadata": {
        "id": "bCWNfpQA9ubz",
        "colab_type": "code",
        "colab": {}
      },
      "source": [
        "import numpy as np\n",
        "import matplotlib.pyplot as plt\n",
        "import pandas as pd"
      ],
      "execution_count": null,
      "outputs": []
    },
    {
      "cell_type": "markdown",
      "metadata": {
        "id": "P0h29-YgESa8",
        "colab_type": "text"
      },
      "source": [
        "importamos el dataset"
      ]
    },
    {
      "cell_type": "code",
      "metadata": {
        "id": "-0rFcs1HCM1d",
        "colab_type": "code",
        "colab": {}
      },
      "source": [
        "dataset = pd.read_csv('/content/Social_Network_Ads.csv')\n",
        "X = dataset.iloc[:, [2, 3]].values\n",
        "y = dataset.iloc[:, 4].values\n"
      ],
      "execution_count": null,
      "outputs": []
    },
    {
      "cell_type": "markdown",
      "metadata": {
        "id": "feX4aUaaEXTa",
        "colab_type": "text"
      },
      "source": [
        "Division del conjunto de datos en datos de entrenamiento y datos de prueba"
      ]
    },
    {
      "cell_type": "code",
      "metadata": {
        "id": "kS83k74aAd1j",
        "colab_type": "code",
        "colab": {}
      },
      "source": [
        "\n",
        "from sklearn.model_selection import train_test_split\n",
        "X_train, X_test, y_train, y_test = train_test_split(X, y, test_size = 0.25, random_state = 0)"
      ],
      "execution_count": null,
      "outputs": []
    },
    {
      "cell_type": "markdown",
      "metadata": {
        "id": "qUdACLb3EhD3",
        "colab_type": "text"
      },
      "source": [
        "dado el valor de la edad y el salario realizamos un ajuste de ezcalas con la clase standarScarler "
      ]
    },
    {
      "cell_type": "code",
      "metadata": {
        "id": "EZB_Do_0-hsZ",
        "colab_type": "code",
        "colab": {
          "base_uri": "https://localhost:8080/",
          "height": 34
        },
        "outputId": "6da9265e-90ee-4a88-b861-8ffde78fc0c7"
      },
      "source": [
        "\n",
        "from sklearn.preprocessing import StandardScaler\n",
        "sc = StandardScaler()\n",
        "X_train = sc.fit_transform(X_train)\n",
        "X_test = sc.transform(X_test)"
      ],
      "execution_count": null,
      "outputs": [
        {
          "output_type": "stream",
          "text": [
            "StandardScaler(copy=True, with_mean=True, with_std=True)\n"
          ],
          "name": "stdout"
        }
      ]
    },
    {
      "cell_type": "markdown",
      "metadata": {
        "id": "ZUgoL7QHEsEP",
        "colab_type": "text"
      },
      "source": [
        "creamos el modelo con la clase LogisticRegression de la librería sklearn y lo entrenamos con los datos del conjunto de entrenamiento X_train."
      ]
    },
    {
      "cell_type": "code",
      "metadata": {
        "id": "sU6svYoWDLo_",
        "colab_type": "code",
        "colab": {
          "base_uri": "https://localhost:8080/",
          "height": 102
        },
        "outputId": "8787991e-aae1-457c-a633-84305c1cd06d"
      },
      "source": [
        "from sklearn.linear_model import LogisticRegression\n",
        "classifier = LogisticRegression(random_state = 0)\n",
        "classifier.fit(X_train, y_train)"
      ],
      "execution_count": null,
      "outputs": [
        {
          "output_type": "execute_result",
          "data": {
            "text/plain": [
              "LogisticRegression(C=1.0, class_weight=None, dual=False, fit_intercept=True,\n",
              "                   intercept_scaling=1, l1_ratio=None, max_iter=100,\n",
              "                   multi_class='auto', n_jobs=None, penalty='l2',\n",
              "                   random_state=0, solver='lbfgs', tol=0.0001, verbose=0,\n",
              "                   warm_start=False)"
            ]
          },
          "metadata": {
            "tags": []
          },
          "execution_count": 19
        }
      ]
    },
    {
      "cell_type": "markdown",
      "metadata": {
        "id": "58pa-PVuEyeX",
        "colab_type": "text"
      },
      "source": [
        "Prediccion de conjunto de pruebas"
      ]
    },
    {
      "cell_type": "code",
      "metadata": {
        "id": "W_rV3WSxDN-A",
        "colab_type": "code",
        "colab": {}
      },
      "source": [
        "y_pred = classifier.predict(X_test)"
      ],
      "execution_count": null,
      "outputs": []
    },
    {
      "cell_type": "markdown",
      "metadata": {
        "id": "yS3A75AnE5pk",
        "colab_type": "text"
      },
      "source": [
        "Matriz de Confusion para analizar tanto los falsos positivos, como los falsos negativos, esto por que su eficiencia no es completa."
      ]
    },
    {
      "cell_type": "code",
      "metadata": {
        "id": "rWYZJa69DRYc",
        "colab_type": "code",
        "colab": {
          "base_uri": "https://localhost:8080/",
          "height": 51
        },
        "outputId": "bf500919-41d2-453a-e786-49d01b8d973a"
      },
      "source": [
        "from sklearn.metrics import confusion_matrix\n",
        "cm = confusion_matrix(y_test, y_pred)\n",
        "print(cm)\n"
      ],
      "execution_count": null,
      "outputs": [
        {
          "output_type": "stream",
          "text": [
            "[[65  3]\n",
            " [ 8 24]]\n"
          ],
          "name": "stdout"
        }
      ]
    },
    {
      "cell_type": "markdown",
      "metadata": {
        "id": "itFi-AZFFupx",
        "colab_type": "text"
      },
      "source": [
        "Graficamos el conjunto de pruebas para poder observar mejor ambas regiones 0 y 1 donde los puntos rojos que estan en la zona verde y los puntos verdes en la zona roja son los elementos que nos da la matriz de confusion."
      ]
    },
    {
      "cell_type": "code",
      "metadata": {
        "id": "sI2WeGOhDWXL",
        "colab_type": "code",
        "colab": {
          "base_uri": "https://localhost:8080/",
          "height": 349
        },
        "outputId": "2744325d-7225-48c6-efd5-3bc4dd882ca9"
      },
      "source": [
        "# Visualizacion de los resultados de Prueba\n",
        "from matplotlib.colors import ListedColormap\n",
        "X_set, y_set = X_test, y_test\n",
        "X1, X2 = np.meshgrid(np.arange(start = X_set[:, 0].min() - 1, stop = X_set[:, 0].max() + 1, step = 0.01),\n",
        "                     np.arange(start = X_set[:, 1].min() - 1, stop = X_set[:, 1].max() + 1, step = 0.01))\n",
        "plt.contourf(X1, X2, classifier.predict(np.array([X1.ravel(), X2.ravel()]).T).reshape(X1.shape),\n",
        "             alpha = 0.75, cmap = ListedColormap(('red', 'green')))\n",
        "plt.xlim(X1.min(), X1.max())\n",
        "plt.ylim(X2.min(), X2.max())\n",
        "for i, j in enumerate(np.unique(y_set)):\n",
        "    plt.scatter(X_set[y_set == j, 0], X_set[y_set == j, 1],\n",
        "                c = ListedColormap(('red', 'green'))(i), label = j)\n",
        "plt.title('Regresion Logistica (Conjunto de Prueba)')\n",
        "plt.xlabel('Edad')\n",
        "plt.ylabel('Salario Estimado')\n",
        "plt.legend()\n",
        "plt.show()"
      ],
      "execution_count": null,
      "outputs": [
        {
          "output_type": "stream",
          "text": [
            "*c* argument looks like a single numeric RGB or RGBA sequence, which should be avoided as value-mapping will have precedence in case its length matches with *x* & *y*.  Please use the *color* keyword-argument or provide a 2-D array with a single row if you intend to specify the same RGB or RGBA value for all points.\n",
            "*c* argument looks like a single numeric RGB or RGBA sequence, which should be avoided as value-mapping will have precedence in case its length matches with *x* & *y*.  Please use the *color* keyword-argument or provide a 2-D array with a single row if you intend to specify the same RGB or RGBA value for all points.\n"
          ],
          "name": "stderr"
        },
        {
          "output_type": "display_data",
          "data": {
            "image/png": "[encoded data removed]",
            "text/plain": [
              "<Figure size 432x288 with 1 Axes>"
            ]
          },
          "metadata": {
            "tags": [],
            "needs_background": "light"
          }
        }
      ]
    },
    {
      "cell_type": "markdown",
      "metadata": {
        "id": "RHXc-JvLGr29",
        "colab_type": "text"
      },
      "source": [
        "por ultimo calculamos la eficiencia que nos da el 89%"
      ]
    },
    {
      "cell_type": "code",
      "metadata": {
        "id": "yoZb93XHDZyl",
        "colab_type": "code",
        "colab": {
          "base_uri": "https://localhost:8080/",
          "height": 34
        },
        "outputId": "8b2eef70-4a3c-411d-abfd-32d307fb2749"
      },
      "source": [
        "#la precisión del modelo la obtenemos con el score\n",
        "score_test =classifier.score(X_test, y_test)\n",
        "\n",
        "print(score_test)"
      ],
      "execution_count": null,
      "outputs": [
        {
          "output_type": "stream",
          "text": [
            "0.89\n"
          ],
          "name": "stdout"
        }
      ]
    }
  ]
}