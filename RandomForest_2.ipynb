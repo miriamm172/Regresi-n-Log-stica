{
  "nbformat": 4,
  "nbformat_minor": 0,
  "metadata": {
    "colab": {
      "name": "RandomForest_2",
      "provenance": [],
      "collapsed_sections": []
    },
    "kernelspec": {
      "name": "python3",
      "display_name": "Python 3"
    }
  },
  "cells": [
    {
      "cell_type": "markdown",
      "metadata": {
        "id": "xrmAg-Qk47kV",
        "colab_type": "text"
      },
      "source": [
        "Ejemplo:\n",
        "clasificacion binaria para predecir la salud de una persona por medio de ciertas caracteristicas como el estilo de vida y la economia."
      ]
    },
    {
      "cell_type": "markdown",
      "metadata": {
        "id": "jwgzlm3qBdoI",
        "colab_type": "text"
      },
      "source": [
        "Primero importamos las librerias a utilizar"
      ]
    },
    {
      "cell_type": "code",
      "metadata": {
        "id": "6HynXD4d4iSm",
        "colab_type": "code",
        "colab": {}
      },
      "source": [
        "import pandas as pd\n",
        "import numpy as np\n",
        "from sklearn.model_selection import train_test_split\n",
        "from sklearn.ensemble import RandomForestClassifier\n",
        "\n",
        "RSEED = 50"
      ],
      "execution_count": null,
      "outputs": []
    },
    {
      "cell_type": "markdown",
      "metadata": {
        "id": "I9EwaST6Bzut",
        "colab_type": "text"
      },
      "source": [
        "Luego ingresamos el dataset clean_data.csv (from:https://www.cdc.gov/) y o visualizamos "
      ]
    },
    {
      "cell_type": "code",
      "metadata": {
        "id": "UDxPWoPH47Zs",
        "colab_type": "code",
        "colab": {
          "base_uri": "https://localhost:8080/",
          "height": 355
        },
        "outputId": "ded0377a-6658-4a1e-bb24-5c48427566d1"
      },
      "source": [
        "df = pd.read_csv('/content/clean_data.csv')\n",
        "print(df.shape)\n",
        "df.head()"
      ],
      "execution_count": null,
      "outputs": [
        {
          "output_type": "stream",
          "text": [
            "(99719, 314)\n"
          ],
          "name": "stdout"
        },
        {
          "output_type": "execute_result",
          "data": {
            "text/html": [
              "<div>\n",
              "<style scoped>\n",
              "    .dataframe tbody tr th:only-of-type {\n",
              "        vertical-align: middle;\n",
              "    }\n",
              "\n",
              "    .dataframe tbody tr th {\n",
              "        vertical-align: top;\n",
              "    }\n",
              "\n",
              "    .dataframe thead th {\n",
              "        text-align: right;\n",
              "    }\n",
              "</style>\n",
              "<table border=\"1\" class=\"dataframe\">\n",
              "  <thead>\n",
              "    <tr style=\"text-align: right;\">\n",
              "      <th></th>\n",
              "      <th>_STATE</th>\n",
              "      <th>FMONTH</th>\n",
              "      <th>DISPCODE</th>\n",
              "      <th>SEQNO</th>\n",
              "      <th>_PSU</th>\n",
              "      <th>CTELENUM</th>\n",
              "      <th>PVTRESD1</th>\n",
              "      <th>COLGHOUS</th>\n",
              "      <th>STATERES</th>\n",
              "      <th>CELLFON3</th>\n",
              "      <th>LADULT</th>\n",
              "      <th>NUMADULT</th>\n",
              "      <th>NUMMEN</th>\n",
              "      <th>NUMWOMEN</th>\n",
              "      <th>CTELNUM1</th>\n",
              "      <th>CELLFON2</th>\n",
              "      <th>CADULT</th>\n",
              "      <th>PVTRESD2</th>\n",
              "      <th>CCLGHOUS</th>\n",
              "      <th>CSTATE</th>\n",
              "      <th>LANDLINE</th>\n",
              "      <th>HHADULT</th>\n",
              "      <th>PERSDOC2</th>\n",
              "      <th>MEDCOST</th>\n",
              "      <th>CHECKUP1</th>\n",
              "      <th>BPHIGH4</th>\n",
              "      <th>BPMEDS</th>\n",
              "      <th>BLOODCHO</th>\n",
              "      <th>CHOLCHK</th>\n",
              "      <th>TOLDHI2</th>\n",
              "      <th>CVDINFR4</th>\n",
              "      <th>CVDCRHD4</th>\n",
              "      <th>CVDSTRK3</th>\n",
              "      <th>ASTHMA3</th>\n",
              "      <th>ASTHNOW</th>\n",
              "      <th>CHCSCNCR</th>\n",
              "      <th>CHCOCNCR</th>\n",
              "      <th>CHCCOPD1</th>\n",
              "      <th>HAVARTH3</th>\n",
              "      <th>ADDEPEV2</th>\n",
              "      <th>...</th>\n",
              "      <th>_VEG23</th>\n",
              "      <th>_FRUITEX</th>\n",
              "      <th>_VEGETEX</th>\n",
              "      <th>_TOTINDA</th>\n",
              "      <th>METVL11_</th>\n",
              "      <th>METVL21_</th>\n",
              "      <th>MAXVO2_</th>\n",
              "      <th>FC60_</th>\n",
              "      <th>ACTIN11_</th>\n",
              "      <th>ACTIN21_</th>\n",
              "      <th>PADUR1_</th>\n",
              "      <th>PADUR2_</th>\n",
              "      <th>PAFREQ1_</th>\n",
              "      <th>PAFREQ2_</th>\n",
              "      <th>_MINAC11</th>\n",
              "      <th>_MINAC21</th>\n",
              "      <th>STRFREQ_</th>\n",
              "      <th>PAMISS1_</th>\n",
              "      <th>PAMIN11_</th>\n",
              "      <th>PAMIN21_</th>\n",
              "      <th>PA1MIN_</th>\n",
              "      <th>PAVIG11_</th>\n",
              "      <th>PAVIG21_</th>\n",
              "      <th>PA1VIGM_</th>\n",
              "      <th>_PACAT1</th>\n",
              "      <th>_PAINDX1</th>\n",
              "      <th>_PA150R2</th>\n",
              "      <th>_PA300R2</th>\n",
              "      <th>_PA30021</th>\n",
              "      <th>_PASTRNG</th>\n",
              "      <th>_PAREC1</th>\n",
              "      <th>_PASTAE1</th>\n",
              "      <th>_LMTACT1</th>\n",
              "      <th>_LMTWRK1</th>\n",
              "      <th>_LMTSCL1</th>\n",
              "      <th>_RFSEAT2</th>\n",
              "      <th>_RFSEAT3</th>\n",
              "      <th>_FLSHOT6</th>\n",
              "      <th>_PNEUMO2</th>\n",
              "      <th>_AIDTST3</th>\n",
              "    </tr>\n",
              "  </thead>\n",
              "  <tbody>\n",
              "    <tr>\n",
              "      <th>0</th>\n",
              "      <td>49.0</td>\n",
              "      <td>4.0</td>\n",
              "      <td>1100.0</td>\n",
              "      <td>2.015009e+09</td>\n",
              "      <td>2.015009e+09</td>\n",
              "      <td>NaN</td>\n",
              "      <td>NaN</td>\n",
              "      <td>NaN</td>\n",
              "      <td>NaN</td>\n",
              "      <td>NaN</td>\n",
              "      <td>NaN</td>\n",
              "      <td>NaN</td>\n",
              "      <td>NaN</td>\n",
              "      <td>NaN</td>\n",
              "      <td>1.0</td>\n",
              "      <td>1.0</td>\n",
              "      <td>2.0</td>\n",
              "      <td>1.0</td>\n",
              "      <td>NaN</td>\n",
              "      <td>1.0</td>\n",
              "      <td>1.0</td>\n",
              "      <td>3.0</td>\n",
              "      <td>1.0</td>\n",
              "      <td>2.0</td>\n",
              "      <td>1.0</td>\n",
              "      <td>3.0</td>\n",
              "      <td>NaN</td>\n",
              "      <td>1.0</td>\n",
              "      <td>2.0</td>\n",
              "      <td>2.0</td>\n",
              "      <td>2.0</td>\n",
              "      <td>2.0</td>\n",
              "      <td>2.0</td>\n",
              "      <td>2.0</td>\n",
              "      <td>NaN</td>\n",
              "      <td>2.0</td>\n",
              "      <td>2.0</td>\n",
              "      <td>2.0</td>\n",
              "      <td>2.0</td>\n",
              "      <td>2.0</td>\n",
              "      <td>...</td>\n",
              "      <td>1.0</td>\n",
              "      <td>5.397605e-79</td>\n",
              "      <td>5.397605e-79</td>\n",
              "      <td>1.0</td>\n",
              "      <td>35.0</td>\n",
              "      <td>5.397605e-79</td>\n",
              "      <td>3320.0</td>\n",
              "      <td>569.0</td>\n",
              "      <td>1.0</td>\n",
              "      <td>5.397605e-79</td>\n",
              "      <td>30.0</td>\n",
              "      <td>NaN</td>\n",
              "      <td>4000.0</td>\n",
              "      <td>NaN</td>\n",
              "      <td>120.0</td>\n",
              "      <td>5.397605e-79</td>\n",
              "      <td>5.397605e-79</td>\n",
              "      <td>5.397605e-79</td>\n",
              "      <td>120.0</td>\n",
              "      <td>5.397605e-79</td>\n",
              "      <td>120.0</td>\n",
              "      <td>5.397605e-79</td>\n",
              "      <td>5.397605e-79</td>\n",
              "      <td>5.397605e-79</td>\n",
              "      <td>3.0</td>\n",
              "      <td>2.0</td>\n",
              "      <td>2.0</td>\n",
              "      <td>2.0</td>\n",
              "      <td>2.0</td>\n",
              "      <td>2.0</td>\n",
              "      <td>4.0</td>\n",
              "      <td>2.0</td>\n",
              "      <td>3.0</td>\n",
              "      <td>3.0</td>\n",
              "      <td>4.0</td>\n",
              "      <td>1.0</td>\n",
              "      <td>1.0</td>\n",
              "      <td>NaN</td>\n",
              "      <td>NaN</td>\n",
              "      <td>2.0</td>\n",
              "    </tr>\n",
              "    <tr>\n",
              "      <th>1</th>\n",
              "      <td>9.0</td>\n",
              "      <td>9.0</td>\n",
              "      <td>1100.0</td>\n",
              "      <td>2.015005e+09</td>\n",
              "      <td>2.015005e+09</td>\n",
              "      <td>1.0</td>\n",
              "      <td>1.0</td>\n",
              "      <td>NaN</td>\n",
              "      <td>1.0</td>\n",
              "      <td>1.0</td>\n",
              "      <td>NaN</td>\n",
              "      <td>2.0</td>\n",
              "      <td>1.000000e+00</td>\n",
              "      <td>1.0</td>\n",
              "      <td>NaN</td>\n",
              "      <td>NaN</td>\n",
              "      <td>NaN</td>\n",
              "      <td>NaN</td>\n",
              "      <td>NaN</td>\n",
              "      <td>NaN</td>\n",
              "      <td>NaN</td>\n",
              "      <td>NaN</td>\n",
              "      <td>1.0</td>\n",
              "      <td>1.0</td>\n",
              "      <td>1.0</td>\n",
              "      <td>3.0</td>\n",
              "      <td>NaN</td>\n",
              "      <td>1.0</td>\n",
              "      <td>1.0</td>\n",
              "      <td>1.0</td>\n",
              "      <td>2.0</td>\n",
              "      <td>2.0</td>\n",
              "      <td>2.0</td>\n",
              "      <td>2.0</td>\n",
              "      <td>NaN</td>\n",
              "      <td>2.0</td>\n",
              "      <td>2.0</td>\n",
              "      <td>2.0</td>\n",
              "      <td>2.0</td>\n",
              "      <td>2.0</td>\n",
              "      <td>...</td>\n",
              "      <td>1.0</td>\n",
              "      <td>5.397605e-79</td>\n",
              "      <td>5.397605e-79</td>\n",
              "      <td>1.0</td>\n",
              "      <td>35.0</td>\n",
              "      <td>6.000000e+01</td>\n",
              "      <td>3745.0</td>\n",
              "      <td>642.0</td>\n",
              "      <td>1.0</td>\n",
              "      <td>1.000000e+00</td>\n",
              "      <td>60.0</td>\n",
              "      <td>30.0</td>\n",
              "      <td>7000.0</td>\n",
              "      <td>2333.0</td>\n",
              "      <td>420.0</td>\n",
              "      <td>7.000000e+01</td>\n",
              "      <td>5.397605e-79</td>\n",
              "      <td>5.397605e-79</td>\n",
              "      <td>420.0</td>\n",
              "      <td>7.000000e+01</td>\n",
              "      <td>490.0</td>\n",
              "      <td>5.397605e-79</td>\n",
              "      <td>5.397605e-79</td>\n",
              "      <td>5.397605e-79</td>\n",
              "      <td>1.0</td>\n",
              "      <td>1.0</td>\n",
              "      <td>1.0</td>\n",
              "      <td>1.0</td>\n",
              "      <td>1.0</td>\n",
              "      <td>2.0</td>\n",
              "      <td>2.0</td>\n",
              "      <td>2.0</td>\n",
              "      <td>3.0</td>\n",
              "      <td>3.0</td>\n",
              "      <td>4.0</td>\n",
              "      <td>1.0</td>\n",
              "      <td>1.0</td>\n",
              "      <td>NaN</td>\n",
              "      <td>NaN</td>\n",
              "      <td>2.0</td>\n",
              "    </tr>\n",
              "    <tr>\n",
              "      <th>2</th>\n",
              "      <td>34.0</td>\n",
              "      <td>10.0</td>\n",
              "      <td>1100.0</td>\n",
              "      <td>2.015011e+09</td>\n",
              "      <td>2.015011e+09</td>\n",
              "      <td>NaN</td>\n",
              "      <td>NaN</td>\n",
              "      <td>NaN</td>\n",
              "      <td>NaN</td>\n",
              "      <td>NaN</td>\n",
              "      <td>NaN</td>\n",
              "      <td>NaN</td>\n",
              "      <td>NaN</td>\n",
              "      <td>NaN</td>\n",
              "      <td>1.0</td>\n",
              "      <td>1.0</td>\n",
              "      <td>2.0</td>\n",
              "      <td>1.0</td>\n",
              "      <td>NaN</td>\n",
              "      <td>1.0</td>\n",
              "      <td>1.0</td>\n",
              "      <td>4.0</td>\n",
              "      <td>1.0</td>\n",
              "      <td>2.0</td>\n",
              "      <td>1.0</td>\n",
              "      <td>1.0</td>\n",
              "      <td>1.0</td>\n",
              "      <td>1.0</td>\n",
              "      <td>1.0</td>\n",
              "      <td>2.0</td>\n",
              "      <td>2.0</td>\n",
              "      <td>2.0</td>\n",
              "      <td>2.0</td>\n",
              "      <td>2.0</td>\n",
              "      <td>NaN</td>\n",
              "      <td>2.0</td>\n",
              "      <td>2.0</td>\n",
              "      <td>2.0</td>\n",
              "      <td>2.0</td>\n",
              "      <td>2.0</td>\n",
              "      <td>...</td>\n",
              "      <td>1.0</td>\n",
              "      <td>5.397605e-79</td>\n",
              "      <td>5.397605e-79</td>\n",
              "      <td>1.0</td>\n",
              "      <td>35.0</td>\n",
              "      <td>3.300000e+01</td>\n",
              "      <td>3246.0</td>\n",
              "      <td>556.0</td>\n",
              "      <td>1.0</td>\n",
              "      <td>1.000000e+00</td>\n",
              "      <td>30.0</td>\n",
              "      <td>10.0</td>\n",
              "      <td>233.0</td>\n",
              "      <td>5000.0</td>\n",
              "      <td>7.0</td>\n",
              "      <td>5.000000e+01</td>\n",
              "      <td>5.397605e-79</td>\n",
              "      <td>5.397605e-79</td>\n",
              "      <td>7.0</td>\n",
              "      <td>5.000000e+01</td>\n",
              "      <td>57.0</td>\n",
              "      <td>5.397605e-79</td>\n",
              "      <td>5.397605e-79</td>\n",
              "      <td>5.397605e-79</td>\n",
              "      <td>3.0</td>\n",
              "      <td>2.0</td>\n",
              "      <td>2.0</td>\n",
              "      <td>2.0</td>\n",
              "      <td>2.0</td>\n",
              "      <td>2.0</td>\n",
              "      <td>4.0</td>\n",
              "      <td>2.0</td>\n",
              "      <td>3.0</td>\n",
              "      <td>3.0</td>\n",
              "      <td>4.0</td>\n",
              "      <td>1.0</td>\n",
              "      <td>1.0</td>\n",
              "      <td>NaN</td>\n",
              "      <td>NaN</td>\n",
              "      <td>2.0</td>\n",
              "    </tr>\n",
              "    <tr>\n",
              "      <th>3</th>\n",
              "      <td>41.0</td>\n",
              "      <td>4.0</td>\n",
              "      <td>1100.0</td>\n",
              "      <td>2.015002e+09</td>\n",
              "      <td>2.015002e+09</td>\n",
              "      <td>1.0</td>\n",
              "      <td>1.0</td>\n",
              "      <td>NaN</td>\n",
              "      <td>1.0</td>\n",
              "      <td>1.0</td>\n",
              "      <td>NaN</td>\n",
              "      <td>1.0</td>\n",
              "      <td>5.397605e-79</td>\n",
              "      <td>1.0</td>\n",
              "      <td>NaN</td>\n",
              "      <td>NaN</td>\n",
              "      <td>NaN</td>\n",
              "      <td>NaN</td>\n",
              "      <td>NaN</td>\n",
              "      <td>NaN</td>\n",
              "      <td>NaN</td>\n",
              "      <td>NaN</td>\n",
              "      <td>1.0</td>\n",
              "      <td>2.0</td>\n",
              "      <td>1.0</td>\n",
              "      <td>1.0</td>\n",
              "      <td>1.0</td>\n",
              "      <td>1.0</td>\n",
              "      <td>1.0</td>\n",
              "      <td>1.0</td>\n",
              "      <td>2.0</td>\n",
              "      <td>2.0</td>\n",
              "      <td>2.0</td>\n",
              "      <td>1.0</td>\n",
              "      <td>1.0</td>\n",
              "      <td>2.0</td>\n",
              "      <td>2.0</td>\n",
              "      <td>1.0</td>\n",
              "      <td>1.0</td>\n",
              "      <td>2.0</td>\n",
              "      <td>...</td>\n",
              "      <td>1.0</td>\n",
              "      <td>5.397605e-79</td>\n",
              "      <td>5.397605e-79</td>\n",
              "      <td>1.0</td>\n",
              "      <td>35.0</td>\n",
              "      <td>5.000000e+01</td>\n",
              "      <td>1507.0</td>\n",
              "      <td>258.0</td>\n",
              "      <td>2.0</td>\n",
              "      <td>2.000000e+00</td>\n",
              "      <td>30.0</td>\n",
              "      <td>30.0</td>\n",
              "      <td>5833.0</td>\n",
              "      <td>1000.0</td>\n",
              "      <td>175.0</td>\n",
              "      <td>3.000000e+01</td>\n",
              "      <td>5.397605e-79</td>\n",
              "      <td>5.397605e-79</td>\n",
              "      <td>350.0</td>\n",
              "      <td>6.000000e+01</td>\n",
              "      <td>410.0</td>\n",
              "      <td>1.750000e+02</td>\n",
              "      <td>3.000000e+01</td>\n",
              "      <td>2.050000e+02</td>\n",
              "      <td>1.0</td>\n",
              "      <td>1.0</td>\n",
              "      <td>1.0</td>\n",
              "      <td>1.0</td>\n",
              "      <td>1.0</td>\n",
              "      <td>2.0</td>\n",
              "      <td>2.0</td>\n",
              "      <td>2.0</td>\n",
              "      <td>2.0</td>\n",
              "      <td>2.0</td>\n",
              "      <td>3.0</td>\n",
              "      <td>1.0</td>\n",
              "      <td>1.0</td>\n",
              "      <td>2.0</td>\n",
              "      <td>1.0</td>\n",
              "      <td>2.0</td>\n",
              "    </tr>\n",
              "    <tr>\n",
              "      <th>4</th>\n",
              "      <td>54.0</td>\n",
              "      <td>5.0</td>\n",
              "      <td>1100.0</td>\n",
              "      <td>2.015004e+09</td>\n",
              "      <td>2.015004e+09</td>\n",
              "      <td>NaN</td>\n",
              "      <td>NaN</td>\n",
              "      <td>NaN</td>\n",
              "      <td>NaN</td>\n",
              "      <td>NaN</td>\n",
              "      <td>NaN</td>\n",
              "      <td>NaN</td>\n",
              "      <td>NaN</td>\n",
              "      <td>NaN</td>\n",
              "      <td>1.0</td>\n",
              "      <td>1.0</td>\n",
              "      <td>2.0</td>\n",
              "      <td>1.0</td>\n",
              "      <td>NaN</td>\n",
              "      <td>1.0</td>\n",
              "      <td>1.0</td>\n",
              "      <td>1.0</td>\n",
              "      <td>1.0</td>\n",
              "      <td>2.0</td>\n",
              "      <td>1.0</td>\n",
              "      <td>3.0</td>\n",
              "      <td>NaN</td>\n",
              "      <td>1.0</td>\n",
              "      <td>1.0</td>\n",
              "      <td>2.0</td>\n",
              "      <td>2.0</td>\n",
              "      <td>2.0</td>\n",
              "      <td>2.0</td>\n",
              "      <td>2.0</td>\n",
              "      <td>NaN</td>\n",
              "      <td>2.0</td>\n",
              "      <td>2.0</td>\n",
              "      <td>2.0</td>\n",
              "      <td>2.0</td>\n",
              "      <td>2.0</td>\n",
              "      <td>...</td>\n",
              "      <td>1.0</td>\n",
              "      <td>5.397605e-79</td>\n",
              "      <td>5.397605e-79</td>\n",
              "      <td>1.0</td>\n",
              "      <td>35.0</td>\n",
              "      <td>3.800000e+01</td>\n",
              "      <td>3431.0</td>\n",
              "      <td>588.0</td>\n",
              "      <td>1.0</td>\n",
              "      <td>1.000000e+00</td>\n",
              "      <td>30.0</td>\n",
              "      <td>15.0</td>\n",
              "      <td>3000.0</td>\n",
              "      <td>11667.0</td>\n",
              "      <td>90.0</td>\n",
              "      <td>1.750000e+02</td>\n",
              "      <td>2.000000e+03</td>\n",
              "      <td>5.397605e-79</td>\n",
              "      <td>90.0</td>\n",
              "      <td>1.750000e+02</td>\n",
              "      <td>265.0</td>\n",
              "      <td>5.397605e-79</td>\n",
              "      <td>5.397605e-79</td>\n",
              "      <td>5.397605e-79</td>\n",
              "      <td>2.0</td>\n",
              "      <td>1.0</td>\n",
              "      <td>1.0</td>\n",
              "      <td>2.0</td>\n",
              "      <td>2.0</td>\n",
              "      <td>1.0</td>\n",
              "      <td>1.0</td>\n",
              "      <td>1.0</td>\n",
              "      <td>3.0</td>\n",
              "      <td>3.0</td>\n",
              "      <td>4.0</td>\n",
              "      <td>1.0</td>\n",
              "      <td>1.0</td>\n",
              "      <td>NaN</td>\n",
              "      <td>NaN</td>\n",
              "      <td>2.0</td>\n",
              "    </tr>\n",
              "  </tbody>\n",
              "</table>\n",
              "<p>5 rows × 314 columns</p>\n",
              "</div>"
            ],
            "text/plain": [
              "   _STATE  FMONTH  DISPCODE  ...  _FLSHOT6  _PNEUMO2  _AIDTST3\n",
              "0    49.0     4.0    1100.0  ...       NaN       NaN       2.0\n",
              "1     9.0     9.0    1100.0  ...       NaN       NaN       2.0\n",
              "2    34.0    10.0    1100.0  ...       NaN       NaN       2.0\n",
              "3    41.0     4.0    1100.0  ...       2.0       1.0       2.0\n",
              "4    54.0     5.0    1100.0  ...       NaN       NaN       2.0\n",
              "\n",
              "[5 rows x 314 columns]"
            ]
          },
          "metadata": {
            "tags": []
          },
          "execution_count": 53
        }
      ]
    },
    {
      "cell_type": "markdown",
      "metadata": {
        "id": "mskPeN_qDCST",
        "colab_type": "text"
      },
      "source": [
        "Exraemos las etiquetas"
      ]
    },
    {
      "cell_type": "code",
      "metadata": {
        "id": "0b6rGYy17GEX",
        "colab_type": "code",
        "colab": {}
      },
      "source": [
        "labels = np.array(df.pop('label'))"
      ],
      "execution_count": null,
      "outputs": []
    },
    {
      "cell_type": "markdown",
      "metadata": {
        "id": "mGz6UXOhDPPp",
        "colab_type": "text"
      },
      "source": [
        "Entrenamos los datos de prueba (30%=0.3)"
      ]
    },
    {
      "cell_type": "code",
      "metadata": {
        "id": "MUKH5nuE7JJm",
        "colab_type": "code",
        "colab": {}
      },
      "source": [
        "train, test, train_labels, test_labels = train_test_split(df,\n",
        "                                         labels, \n",
        "                                         stratify = labels,\n",
        "                                         test_size = 0.3, \n",
        "                                         random_state = RSEED)\n"
      ],
      "execution_count": null,
      "outputs": []
    },
    {
      "cell_type": "code",
      "metadata": {
        "id": "AINozieu7Lcs",
        "colab_type": "code",
        "colab": {}
      },
      "source": [
        "train = train.fillna(train.mean())\n",
        "test = test.fillna(test.mean())\n"
      ],
      "execution_count": null,
      "outputs": []
    },
    {
      "cell_type": "code",
      "metadata": {
        "id": "vic3QKGg7NJ_",
        "colab_type": "code",
        "colab": {}
      },
      "source": [
        "features = list(train.columns)"
      ],
      "execution_count": null,
      "outputs": []
    },
    {
      "cell_type": "markdown",
      "metadata": {
        "id": "TAOaiXMKDmXc",
        "colab_type": "text"
      },
      "source": [
        "Creamos el modelo con 100 arboles"
      ]
    },
    {
      "cell_type": "code",
      "metadata": {
        "id": "Fpbjo4Bx7PsJ",
        "colab_type": "code",
        "colab": {}
      },
      "source": [
        "model = RandomForestClassifier(n_estimators=100, \n",
        "                               random_state=RSEED, \n",
        "                               max_features = 'sqrt',\n",
        "                               n_jobs=-1, verbose = 1)"
      ],
      "execution_count": null,
      "outputs": []
    },
    {
      "cell_type": "markdown",
      "metadata": {
        "id": "8w19fSagD-rq",
        "colab_type": "text"
      },
      "source": [
        "Instanciamos los datos de entrenamiento"
      ]
    },
    {
      "cell_type": "code",
      "metadata": {
        "id": "4AlcSp4V7R63",
        "colab_type": "code",
        "colab": {
          "base_uri": "https://localhost:8080/",
          "height": 68
        },
        "outputId": "b02b3f13-996a-4652-958a-fa412794aa2b"
      },
      "source": [
        "model.fit(train, train_labels)\n",
        "\n",
        "\n",
        "n_nodes = []\n",
        "max_depths = []"
      ],
      "execution_count": null,
      "outputs": [
        {
          "output_type": "stream",
          "text": [
            "[Parallel(n_jobs=-1)]: Using backend ThreadingBackend with 2 concurrent workers.\n",
            "[Parallel(n_jobs=-1)]: Done  46 tasks      | elapsed:   15.6s\n",
            "[Parallel(n_jobs=-1)]: Done 100 out of 100 | elapsed:   34.1s finished\n"
          ],
          "name": "stderr"
        }
      ]
    },
    {
      "cell_type": "markdown",
      "metadata": {
        "id": "xE__8MktD9ih",
        "colab_type": "text"
      },
      "source": [
        "Vemos la cantidad de nodos y la profundidad que tienen los arboles en nuestro bosque"
      ]
    },
    {
      "cell_type": "code",
      "metadata": {
        "id": "JDsde6eg7VE8",
        "colab_type": "code",
        "colab": {
          "base_uri": "https://localhost:8080/",
          "height": 51
        },
        "outputId": "c27b0dcc-0c50-4081-99c1-0bc3856d3e0d"
      },
      "source": [
        "for ind_tree in model.estimators_:\n",
        "    n_nodes.append(ind_tree.tree_.node_count)\n",
        "    max_depths.append(ind_tree.tree_.max_depth)\n",
        "    \n",
        "print(f'Average number of nodes {int(np.mean(n_nodes))}')\n",
        "print(f'Average maximum depth {int(np.mean(max_depths))}')"
      ],
      "execution_count": null,
      "outputs": [
        {
          "output_type": "stream",
          "text": [
            "Average number of nodes 13396\n",
            "Average maximum depth 46\n"
          ],
          "name": "stdout"
        }
      ]
    },
    {
      "cell_type": "markdown",
      "metadata": {
        "id": "Q1XIMMl_E2qU",
        "colab_type": "text"
      },
      "source": [
        "Prueba de entrenamiento para ver si hay sobreajuste"
      ]
    },
    {
      "cell_type": "code",
      "metadata": {
        "id": "CJVOvjbM7XcH",
        "colab_type": "code",
        "colab": {
          "base_uri": "https://localhost:8080/",
          "height": 119
        },
        "outputId": "868b56dd-f48f-457c-83de-35d2f28b69d6"
      },
      "source": [
        "train_rf_predictions = model.predict(train)\n",
        "train_rf_probs = model.predict_proba(train)[:, 1]"
      ],
      "execution_count": null,
      "outputs": [
        {
          "output_type": "stream",
          "text": [
            "[Parallel(n_jobs=2)]: Using backend ThreadingBackend with 2 concurrent workers.\n",
            "[Parallel(n_jobs=2)]: Done  46 tasks      | elapsed:    1.2s\n",
            "[Parallel(n_jobs=2)]: Done 100 out of 100 | elapsed:    2.6s finished\n",
            "[Parallel(n_jobs=2)]: Using backend ThreadingBackend with 2 concurrent workers.\n",
            "[Parallel(n_jobs=2)]: Done  46 tasks      | elapsed:    1.2s\n",
            "[Parallel(n_jobs=2)]: Done 100 out of 100 | elapsed:    2.6s finished\n"
          ],
          "name": "stderr"
        }
      ]
    },
    {
      "cell_type": "markdown",
      "metadata": {
        "id": "3v38S1sWE1Ca",
        "colab_type": "text"
      },
      "source": [
        "Prueba de prediccion para ver el desempeño"
      ]
    },
    {
      "cell_type": "code",
      "metadata": {
        "id": "PWEgXN3j7ZiW",
        "colab_type": "code",
        "colab": {
          "base_uri": "https://localhost:8080/",
          "height": 119
        },
        "outputId": "d0474880-76e3-4950-c46b-ce3bfd6f2828"
      },
      "source": [
        "rf_predictions = model.predict(test)\n",
        "rf_probs = model.predict_proba(test)[:, 1]\n",
        "\n",
        "from sklearn.metrics import precision_score, recall_score, roc_auc_score, roc_curve\n",
        "import matplotlib.pyplot as plt"
      ],
      "execution_count": null,
      "outputs": [
        {
          "output_type": "stream",
          "text": [
            "[Parallel(n_jobs=2)]: Using backend ThreadingBackend with 2 concurrent workers.\n",
            "[Parallel(n_jobs=2)]: Done  46 tasks      | elapsed:    0.5s\n",
            "[Parallel(n_jobs=2)]: Done 100 out of 100 | elapsed:    1.1s finished\n",
            "[Parallel(n_jobs=2)]: Using backend ThreadingBackend with 2 concurrent workers.\n",
            "[Parallel(n_jobs=2)]: Done  46 tasks      | elapsed:    0.5s\n",
            "[Parallel(n_jobs=2)]: Done 100 out of 100 | elapsed:    1.1s finished\n"
          ],
          "name": "stderr"
        }
      ]
    },
    {
      "cell_type": "markdown",
      "metadata": {
        "id": "tIj23iSRCfem",
        "colab_type": "text"
      },
      "source": [
        "Trazamos la curva ROC para el árbol de decisión único y el bosque aleatorio para ver los falsos positivos y los falsos negativos:"
      ]
    },
    {
      "cell_type": "code",
      "metadata": {
        "id": "vAmyAfjS7ir6",
        "colab_type": "code",
        "colab": {}
      },
      "source": [
        "plt.style.use('fivethirtyeight')\n",
        "plt.rcParams['font.size'] = 18\n",
        "\n",
        "def evaluate_model(predictions, probs, train_predictions, train_probs):\n",
        "    \"\"\"Compare machine learning model to baseline performance.\n",
        "    Computes statistics and shows ROC curve.\"\"\"\n",
        "    baseline = {}\n",
        "    baseline['recall'] = recall_score(test_labels, \n",
        "                                     [1 for _ in range(len(test_labels))])\n",
        "    baseline['precision'] = precision_score(test_labels, \n",
        "                                      [1 for _ in range(len(test_labels))])\n",
        "    baseline['roc'] = 0.5\n",
        "    results = {}\n",
        "    results['recall'] = recall_score(test_labels, predictions)\n",
        "    results['precision'] = precision_score(test_labels, predictions)\n",
        "    results['roc'] = roc_auc_score(test_labels, probs)\n",
        "    train_results = {}\n",
        "    train_results['recall'] = recall_score(train_labels, train_predictions)\n",
        "    train_results['precision'] = precision_score(train_labels, train_predictions)\n",
        "    train_results['roc'] = roc_auc_score(train_labels, train_probs)\n",
        "    \n",
        "    for metric in ['recall', 'precision', 'roc']:\n",
        "        print(f'{metric.capitalize()} Baseline: {round(baseline[metric], 2)} Test: {round(results[metric], 2)} Train: {round(train_results[metric], 2)}')\n",
        "\n",
        "    base_fpr, base_tpr, _ = roc_curve(test_labels, [1 for _ in range(len(test_labels))])\n",
        "    model_fpr, model_tpr, _ = roc_curve(test_labels, probs)\n",
        "\n",
        "    plt.figure(figsize = (8, 6))\n",
        "    plt.rcParams['font.size'] = 16\n",
        "\n",
        "    plt.plot(base_fpr, base_tpr, 'b', label = 'baseline')\n",
        "    plt.plot(model_fpr, model_tpr, 'r', label = 'model')\n",
        "    plt.legend();\n",
        "    plt.xlabel('False Positive Rate'); \n",
        "    plt.ylabel('True Positive Rate'); plt.title('ROC Curves');\n",
        "    plt.show();"
      ],
      "execution_count": null,
      "outputs": []
    },
    {
      "cell_type": "code",
      "metadata": {
        "id": "Dphau5As7oeT",
        "colab_type": "code",
        "colab": {
          "base_uri": "https://localhost:8080/",
          "height": 514
        },
        "outputId": "6a95a28b-5719-4b09-f401-09299575b232"
      },
      "source": [
        "evaluate_model(rf_predictions, rf_probs, train_rf_predictions, train_rf_probs)\n",
        "plt.savefig('roc_auc_curve.png')"
      ],
      "execution_count": null,
      "outputs": [
        {
          "output_type": "stream",
          "text": [
            "Recall Baseline: 1.0 Test: 0.96 Train: 1.0\n",
            "Precision Baseline: 0.81 Test: 0.88 Train: 1.0\n",
            "Roc Baseline: 0.5 Test: 0.87 Train: 1.0\n"
          ],
          "name": "stdout"
        },
        {
          "output_type": "display_data",
          "data": {
            "image/png": "[encoded data removed]",
            "text/plain": [
              "<Figure size 576x432 with 1 Axes>"
            ]
          },
          "metadata": {
            "tags": []
          }
        },
        {
          "output_type": "display_data",
          "data": {
            "text/plain": [
              "<Figure size 432x288 with 0 Axes>"
            ]
          },
          "metadata": {
            "tags": []
          }
        }
      ]
    },
    {
      "cell_type": "markdown",
      "metadata": {
        "id": "3YSvOIhTHwni",
        "colab_type": "text"
      },
      "source": [
        "ROC AUC para el bosque aleatorio fue de 0,87 aunque este sobre ajustado. El puntaje de entrenamientose logro llegar a 1.0 ROC AUC, que nuevamente es lo esperado porque le dimos a este modelo las respuestas de entrenamiento y no limitamos la profundidad máxima de cada árbol."
      ]
    },
    {
      "cell_type": "markdown",
      "metadata": {
        "id": "8QwglW7bCZCX",
        "colab_type": "text"
      },
      "source": [
        "Otra medida de diagnóstico del modelo que podemos tomar es trazar la matriz de confusión para las predicciones de las pruebas:"
      ]
    },
    {
      "cell_type": "code",
      "metadata": {
        "id": "IM8T2aFe9JM5",
        "colab_type": "code",
        "colab": {}
      },
      "source": [
        "from sklearn.metrics import confusion_matrix\n",
        "import itertools"
      ],
      "execution_count": null,
      "outputs": []
    },
    {
      "cell_type": "code",
      "metadata": {
        "id": "8EtbXowX9OWs",
        "colab_type": "code",
        "colab": {}
      },
      "source": [
        "def plot_confusion_matrix(cm, classes,\n",
        "                          normalize=False,\n",
        "                          title='Confusion matrix',\n",
        "                          cmap=plt.cm.Oranges):\n",
        "\n",
        "    if normalize:\n",
        "        cm = cm.astype('float') / cm.sum(axis=1)[:, np.newaxis]\n",
        "        print(\"Normalized confusion matrix\")\n",
        "    else:\n",
        "        print('Confusion matrix, without normalization')\n",
        "\n",
        "    print(cm)\n",
        "\n",
        "    # Plot the confusion matrix\n",
        "    plt.figure(figsize = (10, 10))\n",
        "    plt.imshow(cm, interpolation='nearest', cmap=cmap)\n",
        "    plt.title(title, size = 24)\n",
        "    plt.colorbar(aspect=4)\n",
        "    tick_marks = np.arange(len(classes))\n",
        "    plt.xticks(tick_marks, classes, rotation=45, size = 14)\n",
        "    plt.yticks(tick_marks, classes, size = 14)\n",
        "\n",
        "    fmt = '.2f' if normalize else 'd'\n",
        "    thresh = cm.max() / 2.\n",
        "    \n",
        "    # Labeling the plot\n",
        "    for i, j in itertools.product(range(cm.shape[0]), range(cm.shape[1])):\n",
        "        plt.text(j, i, format(cm[i, j], fmt), fontsize = 20,\n",
        "                 horizontalalignment=\"center\",\n",
        "                 color=\"white\" if cm[i, j] > thresh else \"black\")\n",
        "        \n",
        "    plt.grid(None)\n",
        "    plt.tight_layout()\n",
        "    plt.ylabel('True label', size = 18)\n",
        "    plt.xlabel('Predicted label', size = 18)\n",
        "    plt.show();\n"
      ],
      "execution_count": null,
      "outputs": []
    },
    {
      "cell_type": "code",
      "metadata": {
        "id": "HbgQ9DGT9SdD",
        "colab_type": "code",
        "colab": {
          "base_uri": "https://localhost:8080/",
          "height": 576
        },
        "outputId": "c6117efa-2544-4b87-8405-1d5b0cd4feff"
      },
      "source": [
        "cm = confusion_matrix(test_labels, rf_predictions)\n",
        "plot_confusion_matrix(cm, classes = ['Poor Health', 'Good Health'],\n",
        "                      title = 'Health Confusion Matrix')\n",
        "\n",
        "plt.savefig('cm.png')"
      ],
      "execution_count": null,
      "outputs": [
        {
          "output_type": "stream",
          "text": [
            "Confusion matrix, without normalization\n",
            "[[ 2438  3136]\n",
            " [ 1043 23299]]\n"
          ],
          "name": "stdout"
        },
        {
          "output_type": "display_data",
          "data": {
            "image/png": "[encoded data removed]",
            "text/plain": [
              "<Figure size 720x720 with 2 Axes>"
            ]
          },
          "metadata": {
            "tags": []
          }
        },
        {
          "output_type": "display_data",
          "data": {
            "text/plain": [
              "<Figure size 432x288 with 0 Axes>"
            ]
          },
          "metadata": {
            "tags": []
          }
        }
      ]
    },
    {
      "cell_type": "markdown",
      "metadata": {
        "id": "lWfIBu1RGQXP",
        "colab_type": "text"
      },
      "source": [
        "Esto muestra las predicciones que el modelo acertó en las esquinas superior izquierda e inferior derecha y las predicciones perdidas por el modelo en la parte inferior izquierda y superior derecha."
      ]
    }
  ]
}