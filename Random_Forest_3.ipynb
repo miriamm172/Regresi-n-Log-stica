{
  "nbformat": 4,
  "nbformat_minor": 0,
  "metadata": {
    "colab": {
      "name": "Random Forest_3.ipynb",
      "provenance": [],
      "authorship_tag": "ABX9TyO5lzoJ+ViYxzx5lpNwCfyg",
      "include_colab_link": true
    },
    "kernelspec": {
      "name": "python3",
      "display_name": "Python 3"
    }
  },
  "cells": [
    {
      "cell_type": "markdown",
      "metadata": {
        "id": "view-in-github",
        "colab_type": "text"
      },
      "source": [
        "<a href=\"https://colab.research.google.com/github/miriamm172/TECNICAS-DE-CLASIFICACION/blob/master/Random_Forest_3.ipynb\" target=\"_parent\"><img src=\"https://colab.research.google.com/assets/colab-badge.svg\" alt=\"Open In Colab\"/></a>"
      ]
    },
    {
      "cell_type": "markdown",
      "metadata": {
        "id": "IBSKRPYjQj6R",
        "colab_type": "text"
      },
      "source": [
        "**BOSQUES ALEATORIOS**: Ejemplo de clasificación del dataset [Pima Indian Diabetes](https://https://colab.research.google.com/drive/1NddH8HNl4pt665rqQFF0PU81y39avDKT?authuser=1#scrollTo=IBSKRPYjQj6R&line=1&uniqifier=1) para predecir si un paciente tiene diabetes o no. El datasert consta de 9 columnas y 768 muestras."
      ]
    },
    {
      "cell_type": "markdown",
      "metadata": {
        "id": "AyoCjKHQRy0m",
        "colab_type": "text"
      },
      "source": [
        "Importamos las librerías necesarias y cargamos el documento que contiene las muestras."
      ]
    },
    {
      "cell_type": "code",
      "metadata": {
        "id": "wPDpFyrEQlKF",
        "colab_type": "code",
        "colab": {}
      },
      "source": [
        "import pandas as pd\n",
        "from sklearn.ensemble import RandomForestClassifier\n",
        "from sklearn.model_selection import train_test_split "
      ],
      "execution_count": null,
      "outputs": []
    },
    {
      "cell_type": "code",
      "metadata": {
        "id": "7xFKpdRNSJlE",
        "colab_type": "code",
        "colab": {
          "base_uri": "https://localhost:8080/",
          "height": 195
        },
        "outputId": "01ed5eac-1de7-4e8c-e6b1-116f6578d3e8"
      },
      "source": [
        "col_names = ['pregnant', 'glucose', 'bp', 'skin', 'insulin', 'bmi', 'pedigree', 'age', 'label'] #designamos nombres de las columnas\n",
        "dataset = pd.read_csv(\"pima-indians-diabetes.csv\", header=None, names=col_names) #colocamos su nombre a cada columa \"names\"\n",
        "dataset = dataset.iloc [1:]\n",
        "dataset.head()"
      ],
      "execution_count": null,
      "outputs": [
        {
          "output_type": "execute_result",
          "data": {
            "text/html": [
              "<div>\n",
              "<style scoped>\n",
              "    .dataframe tbody tr th:only-of-type {\n",
              "        vertical-align: middle;\n",
              "    }\n",
              "\n",
              "    .dataframe tbody tr th {\n",
              "        vertical-align: top;\n",
              "    }\n",
              "\n",
              "    .dataframe thead th {\n",
              "        text-align: right;\n",
              "    }\n",
              "</style>\n",
              "<table border=\"1\" class=\"dataframe\">\n",
              "  <thead>\n",
              "    <tr style=\"text-align: right;\">\n",
              "      <th></th>\n",
              "      <th>pregnant</th>\n",
              "      <th>glucose</th>\n",
              "      <th>bp</th>\n",
              "      <th>skin</th>\n",
              "      <th>insulin</th>\n",
              "      <th>bmi</th>\n",
              "      <th>pedigree</th>\n",
              "      <th>age</th>\n",
              "      <th>label</th>\n",
              "    </tr>\n",
              "  </thead>\n",
              "  <tbody>\n",
              "    <tr>\n",
              "      <th>1</th>\n",
              "      <td>6</td>\n",
              "      <td>148</td>\n",
              "      <td>72</td>\n",
              "      <td>35</td>\n",
              "      <td>0</td>\n",
              "      <td>33.6</td>\n",
              "      <td>0.627</td>\n",
              "      <td>50</td>\n",
              "      <td>1</td>\n",
              "    </tr>\n",
              "    <tr>\n",
              "      <th>2</th>\n",
              "      <td>1</td>\n",
              "      <td>85</td>\n",
              "      <td>66</td>\n",
              "      <td>29</td>\n",
              "      <td>0</td>\n",
              "      <td>26.6</td>\n",
              "      <td>0.351</td>\n",
              "      <td>31</td>\n",
              "      <td>0</td>\n",
              "    </tr>\n",
              "    <tr>\n",
              "      <th>3</th>\n",
              "      <td>8</td>\n",
              "      <td>183</td>\n",
              "      <td>64</td>\n",
              "      <td>0</td>\n",
              "      <td>0</td>\n",
              "      <td>23.3</td>\n",
              "      <td>0.672</td>\n",
              "      <td>32</td>\n",
              "      <td>1</td>\n",
              "    </tr>\n",
              "    <tr>\n",
              "      <th>4</th>\n",
              "      <td>1</td>\n",
              "      <td>89</td>\n",
              "      <td>66</td>\n",
              "      <td>23</td>\n",
              "      <td>94</td>\n",
              "      <td>28.1</td>\n",
              "      <td>0.167</td>\n",
              "      <td>21</td>\n",
              "      <td>0</td>\n",
              "    </tr>\n",
              "    <tr>\n",
              "      <th>5</th>\n",
              "      <td>0</td>\n",
              "      <td>137</td>\n",
              "      <td>40</td>\n",
              "      <td>35</td>\n",
              "      <td>168</td>\n",
              "      <td>43.1</td>\n",
              "      <td>2.288</td>\n",
              "      <td>33</td>\n",
              "      <td>1</td>\n",
              "    </tr>\n",
              "  </tbody>\n",
              "</table>\n",
              "</div>"
            ],
            "text/plain": [
              "  pregnant glucose  bp skin insulin   bmi pedigree age label\n",
              "1        6     148  72   35       0  33.6    0.627  50     1\n",
              "2        1      85  66   29       0  26.6    0.351  31     0\n",
              "3        8     183  64    0       0  23.3    0.672  32     1\n",
              "4        1      89  66   23      94  28.1    0.167  21     0\n",
              "5        0     137  40   35     168  43.1    2.288  33     1"
            ]
          },
          "metadata": {
            "tags": []
          },
          "execution_count": 57
        }
      ]
    },
    {
      "cell_type": "markdown",
      "metadata": {
        "id": "zzOPS7GiULp2",
        "colab_type": "text"
      },
      "source": [
        "Dividimos la data: \"X\" variables independietes (características) y \"y\" variables dependientes (etiqueta).\n",
        "Separamos los datos, 70% para entrenamiento y 30% para pueba."
      ]
    },
    {
      "cell_type": "code",
      "metadata": {
        "id": "ZvBSDiS3XFqG",
        "colab_type": "code",
        "colab": {}
      },
      "source": [
        "feature_cols = ['pregnant', 'insulin', 'bmi', 'age','glucose','bp','pedigree']\n",
        "X = dataset[feature_cols] # características\n",
        "y = dataset.label # etiquetas de salida\n",
        "\n",
        "X_train, X_test, y_train, y_test = train_test_split(X, y, test_size=0.3, random_state=1)"
      ],
      "execution_count": null,
      "outputs": []
    },
    {
      "cell_type": "markdown",
      "metadata": {
        "id": "ka3Pl3gYYJei",
        "colab_type": "text"
      },
      "source": [
        "Definimos del modelo de bosques aleatorios de clasificación, lo entrenamos (datos de entrenamiento) y generamos las nuevas predicciones (datos prueba)."
      ]
    },
    {
      "cell_type": "code",
      "metadata": {
        "id": "pZLzc9ZUZXf-",
        "colab_type": "code",
        "colab": {}
      },
      "source": [
        "clf = RandomForestClassifier(n_estimators=100, random_state=0) #modelo, \"n_estimators\" define el numero de árboles en el bosque\n",
        "clf = clf.fit(X_train,y_train) #entrenamiento\n",
        "y_pred = clf.predict(X_test) #nuevas predicciones"
      ],
      "execution_count": null,
      "outputs": []
    },
    {
      "cell_type": "markdown",
      "metadata": {
        "id": "x8BirbSAaCVt",
        "colab_type": "text"
      },
      "source": [
        "Midiendo la eficacia del modelo a través de la matriz de confusión."
      ]
    },
    {
      "cell_type": "code",
      "metadata": {
        "id": "Vwv0IxU0bIT1",
        "colab_type": "code",
        "colab": {
          "base_uri": "https://localhost:8080/",
          "height": 235
        },
        "outputId": "267e62ec-ddfc-4267-f21f-960ce7b9d5e4"
      },
      "source": [
        "from sklearn.metrics import classification_report, confusion_matrix, accuracy_score\n",
        "print(\"Matriz de confusión\")\n",
        "print(confusion_matrix(y_test,y_pred))\n",
        "print(\"Métricas de clasificación\")\n",
        "print(classification_report(y_test,y_pred))"
      ],
      "execution_count": null,
      "outputs": [
        {
          "output_type": "stream",
          "text": [
            "Matriz de confusión\n",
            "[[131  15]\n",
            " [ 30  55]]\n",
            "Métricas de clasificación\n",
            "              precision    recall  f1-score   support\n",
            "\n",
            "           0       0.81      0.90      0.85       146\n",
            "           1       0.79      0.65      0.71        85\n",
            "\n",
            "    accuracy                           0.81       231\n",
            "   macro avg       0.80      0.77      0.78       231\n",
            "weighted avg       0.80      0.81      0.80       231\n",
            "\n"
          ],
          "name": "stdout"
        }
      ]
    },
    {
      "cell_type": "markdown",
      "metadata": {
        "id": "Ixp7AieegYWz",
        "colab_type": "text"
      },
      "source": [
        "\n",
        "*   True Positives 131\n",
        "*   True Negatives 55\n",
        "*   False Positives 30\n",
        "*   False Negatives 15\n",
        "\n",
        "Precisión del modelo: 81%"
      ]
    }
  ]
}